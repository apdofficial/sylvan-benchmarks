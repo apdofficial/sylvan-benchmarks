{
 "cells": [
  {
   "cell_type": "code",
   "execution_count": 3,
   "id": "initial_id",
   "metadata": {
    "ExecuteTime": {
     "end_time": "2023-07-27T13:52:32.063361Z",
     "start_time": "2023-07-27T13:52:19.679254Z"
    }
   },
   "outputs": [],
   "source": [
    "import pandas as pd\n",
    "from pathlib import Path\n",
    "from pandas import DataFrame\n",
    "\n",
    "import numpy as np\n",
    "import matplotlib.pyplot as plt\n",
    "\n",
    "# Some pretty Seaborn settings\n",
    "import seaborn as sns\n",
    "rc={'lines.linewidth': 2, 'axes.labelsize': 14, 'axes.titlesize': 14}\n",
    "sns.set(rc=rc)\n",
    "\n",
    "# Make Matplotlib plots appear inline\n",
    "%matplotlib inline\n",
    "\n",
    "results = Path('./results')\n",
    "results_manu = results / 'manu'\n",
    "results_auto = results / 'auto'"
   ]
  },
  {
   "cell_type": "code",
   "execution_count": 13,
   "id": "37e3f8011899a84a",
   "metadata": {
    "ExecuteTime": {
     "end_time": "2023-07-27T13:51:29.865969Z",
     "start_time": "2023-07-27T13:51:29.863937Z"
    },
    "collapsed": false,
    "jupyter": {
     "outputs_hidden": false
    }
   },
   "outputs": [],
   "source": [
    "def filter_size_benchmark(path: Path) -> bool:\n",
    "    is_cudd = path.name.startswith(\"cudd\")\n",
    "    is_sylvan = path.name.startswith(\"sylvan\")\n",
    "    return is_cudd or is_sylvan\n",
    "\n",
    "\n",
    "def load_quality_benchmarks(path: Path) -> DataFrame:\n",
    "    size_results = filter(filter_size_benchmark, list(path.glob('*.csv')))\n",
    "    frames: [DataFrame] = []\n",
    "    for path in size_results:\n",
    "        frame = pd.read_csv(path)\n",
    "        frame[\"benchmark\"] = path.name.split(\".\")[0]\n",
    "        frames.append(frame)\n",
    "    return pd.concat(frames)"
   ]
  },
  {
   "cell_type": "code",
   "execution_count": 14,
   "id": "9d79304cbbc279c0",
   "metadata": {
    "ExecuteTime": {
     "end_time": "2023-07-27T13:51:33.233221Z",
     "start_time": "2023-07-27T13:51:33.188104Z"
    },
    "collapsed": false,
    "jupyter": {
     "outputs_hidden": false
    }
   },
   "outputs": [
    {
     "data": {
      "text/html": [
       "<div>\n",
       "<style scoped>\n",
       "    .dataframe tbody tr th:only-of-type {\n",
       "        vertical-align: middle;\n",
       "    }\n",
       "\n",
       "    .dataframe tbody tr th {\n",
       "        vertical-align: top;\n",
       "    }\n",
       "\n",
       "    .dataframe thead th {\n",
       "        text-align: right;\n",
       "    }\n",
       "</style>\n",
       "<table border=\"1\" class=\"dataframe\">\n",
       "  <thead>\n",
       "    <tr style=\"text-align: right;\">\n",
       "      <th></th>\n",
       "      <th>from_size</th>\n",
       "      <th>to_size</th>\n",
       "      <th>time</th>\n",
       "      <th>benchmark</th>\n",
       "    </tr>\n",
       "  </thead>\n",
       "  <tbody>\n",
       "    <tr>\n",
       "      <th>0</th>\n",
       "      <td>599359</td>\n",
       "      <td>13482</td>\n",
       "      <td>5.45</td>\n",
       "      <td>cudd-group-manu-solver_mult_bool_matrix_2_3_6</td>\n",
       "    </tr>\n",
       "    <tr>\n",
       "      <th>0</th>\n",
       "      <td>169619</td>\n",
       "      <td>800</td>\n",
       "      <td>0.19</td>\n",
       "      <td>cudd-group-manu-solver_add12y</td>\n",
       "    </tr>\n",
       "    <tr>\n",
       "      <th>0</th>\n",
       "      <td>39332</td>\n",
       "      <td>4572</td>\n",
       "      <td>0.12</td>\n",
       "      <td>cudd-group-manu-solver_mult_bool_matrix_2_3_4</td>\n",
       "    </tr>\n",
       "    <tr>\n",
       "      <th>0</th>\n",
       "      <td>744993</td>\n",
       "      <td>3060</td>\n",
       "      <td>1.23</td>\n",
       "      <td>cudd-sift-manu-solver_add14y</td>\n",
       "    </tr>\n",
       "    <tr>\n",
       "      <th>0</th>\n",
       "      <td>154640</td>\n",
       "      <td>8695</td>\n",
       "      <td>0.62</td>\n",
       "      <td>cudd-group-manu-solver_mult_bool_matrix_2_3_5</td>\n",
       "    </tr>\n",
       "  </tbody>\n",
       "</table>\n",
       "</div>"
      ],
      "text/plain": [
       "   from_size  to_size  time                                      benchmark\n",
       "0     599359    13482  5.45  cudd-group-manu-solver_mult_bool_matrix_2_3_6\n",
       "0     169619      800  0.19                  cudd-group-manu-solver_add12y\n",
       "0      39332     4572  0.12  cudd-group-manu-solver_mult_bool_matrix_2_3_4\n",
       "0     744993     3060  1.23                   cudd-sift-manu-solver_add14y\n",
       "0     154640     8695  0.62  cudd-group-manu-solver_mult_bool_matrix_2_3_5"
      ]
     },
     "execution_count": 14,
     "metadata": {},
     "output_type": "execute_result"
    }
   ],
   "source": [
    "manu_quality_benchmarks = load_quality_benchmarks(results_manu)\n",
    "manu_quality_benchmarks.head()"
   ]
  },
  {
   "cell_type": "code",
   "execution_count": null,
   "id": "d5048806-501e-4e04-9ae4-f6943f5e8df0",
   "metadata": {},
   "outputs": [],
   "source": [
    "manu_quality_benchmarks.g"
   ]
  },
  {
   "cell_type": "code",
   "execution_count": null,
   "id": "f7419b6e71431419",
   "metadata": {
    "collapsed": false,
    "jupyter": {
     "outputs_hidden": false
    }
   },
   "outputs": [],
   "source": []
  }
 ],
 "metadata": {
  "kernelspec": {
   "display_name": "Python 3 (ipykernel)",
   "language": "python",
   "name": "python3"
  },
  "language_info": {
   "codemirror_mode": {
    "name": "ipython",
    "version": 3
   },
   "file_extension": ".py",
   "mimetype": "text/x-python",
   "name": "python",
   "nbconvert_exporter": "python",
   "pygments_lexer": "ipython3",
   "version": "3.11.3"
  }
 },
 "nbformat": 4,
 "nbformat_minor": 5
}
