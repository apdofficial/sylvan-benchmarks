{
 "cells": [
  {
   "cell_type": "code",
   "execution_count": 48,
   "id": "initial_id",
   "metadata": {
    "ExecuteTime": {
     "end_time": "2023-07-27T15:53:43.300790Z",
     "start_time": "2023-07-27T15:53:43.300289Z"
    }
   },
   "outputs": [],
   "source": [
    "import pandas as pd\n",
    "from pathlib import Path\n",
    "from pandas import DataFrame\n",
    "\n",
    "import numpy as np\n",
    "import matplotlib.pyplot as plt\n",
    "\n",
    "# Some pretty Seaborn settings\n",
    "import seaborn as sns\n",
    "rc={'lines.linewidth': 2, 'axes.labelsize': 14, 'axes.titlesize': 14}\n",
    "sns.set(rc=rc)\n",
    "\n",
    "# Make Matplotlib plots appear inline\n",
    "%matplotlib inline\n",
    "\n",
    "results = Path('./results')\n",
    "results_manu = results / 'manu'\n",
    "results_auto = results / 'auto'"
   ]
  },
  {
   "cell_type": "code",
   "execution_count": 49,
   "id": "37e3f8011899a84a",
   "metadata": {
    "collapsed": false,
    "ExecuteTime": {
     "end_time": "2023-07-27T15:53:43.870233Z",
     "start_time": "2023-07-27T15:53:43.844614Z"
    }
   },
   "outputs": [],
   "source": [
    "manu_quality_benchmarks = pd.read_csv(path)\n"
   ]
  },
  {
   "cell_type": "code",
   "execution_count": 50,
   "id": "9d79304cbbc279c0",
   "metadata": {
    "collapsed": false,
    "ExecuteTime": {
     "end_time": "2023-07-27T15:53:44.571507Z",
     "start_time": "2023-07-27T15:53:44.568735Z"
    }
   },
   "outputs": [
    {
     "data": {
      "text/plain": "   from_size  to_size  time           solver                       model\n0     599359    13482  5.45  cudd-group-manu  mult_bool_matrix_2_3_6.csv\n1     169619      800  0.19  cudd-group-manu                  add12y.csv\n2      39332     4572  0.12  cudd-group-manu  mult_bool_matrix_2_3_4.csv\n3     744993     3060  1.23   cudd-sift-manu                  add14y.csv\n4     154640     8695  0.62  cudd-group-manu  mult_bool_matrix_2_3_5.csv",
      "text/html": "<div>\n<style scoped>\n    .dataframe tbody tr th:only-of-type {\n        vertical-align: middle;\n    }\n\n    .dataframe tbody tr th {\n        vertical-align: top;\n    }\n\n    .dataframe thead th {\n        text-align: right;\n    }\n</style>\n<table border=\"1\" class=\"dataframe\">\n  <thead>\n    <tr style=\"text-align: right;\">\n      <th></th>\n      <th>from_size</th>\n      <th>to_size</th>\n      <th>time</th>\n      <th>solver</th>\n      <th>model</th>\n    </tr>\n  </thead>\n  <tbody>\n    <tr>\n      <th>0</th>\n      <td>599359</td>\n      <td>13482</td>\n      <td>5.45</td>\n      <td>cudd-group-manu</td>\n      <td>mult_bool_matrix_2_3_6.csv</td>\n    </tr>\n    <tr>\n      <th>1</th>\n      <td>169619</td>\n      <td>800</td>\n      <td>0.19</td>\n      <td>cudd-group-manu</td>\n      <td>add12y.csv</td>\n    </tr>\n    <tr>\n      <th>2</th>\n      <td>39332</td>\n      <td>4572</td>\n      <td>0.12</td>\n      <td>cudd-group-manu</td>\n      <td>mult_bool_matrix_2_3_4.csv</td>\n    </tr>\n    <tr>\n      <th>3</th>\n      <td>744993</td>\n      <td>3060</td>\n      <td>1.23</td>\n      <td>cudd-sift-manu</td>\n      <td>add14y.csv</td>\n    </tr>\n    <tr>\n      <th>4</th>\n      <td>154640</td>\n      <td>8695</td>\n      <td>0.62</td>\n      <td>cudd-group-manu</td>\n      <td>mult_bool_matrix_2_3_5.csv</td>\n    </tr>\n  </tbody>\n</table>\n</div>"
     },
     "execution_count": 50,
     "metadata": {},
     "output_type": "execute_result"
    }
   ],
   "source": []
  },
  {
   "cell_type": "code",
   "execution_count": 51,
   "id": "d5048806-501e-4e04-9ae4-f6943f5e8df0",
   "metadata": {
    "ExecuteTime": {
     "end_time": "2023-07-27T15:53:45.448477Z",
     "start_time": "2023-07-27T15:53:45.397531Z"
    }
   },
   "outputs": [
    {
     "data": {
      "text/plain": "         mean    stddev      median        user    system         min  \\\n0    2.418702  0.021909    2.418702    2.387312  0.021965    2.403210   \n1    2.352720  0.046595    2.352720    2.316535  0.020613    2.319772   \n2    4.254728  0.378445    4.254728   16.865785  0.071558    3.987127   \n3  106.409891  2.546009  106.409891  105.524287  0.784374  104.609591   \n4  102.203530  4.246664  102.203530  101.462925  0.650172   99.200685   \n\n          max       model           solver  \n0    2.434194  add12y.aag   cudd-sift-manu  \n1    2.385667  add12y.aag  cudd-group-manu  \n2    4.522329  add12y.aag      sylvan-manu  \n3  108.210191  add14y.aag   cudd-sift-manu  \n4  105.206375  add14y.aag  cudd-group-manu  ",
      "text/html": "<div>\n<style scoped>\n    .dataframe tbody tr th:only-of-type {\n        vertical-align: middle;\n    }\n\n    .dataframe tbody tr th {\n        vertical-align: top;\n    }\n\n    .dataframe thead th {\n        text-align: right;\n    }\n</style>\n<table border=\"1\" class=\"dataframe\">\n  <thead>\n    <tr style=\"text-align: right;\">\n      <th></th>\n      <th>mean</th>\n      <th>stddev</th>\n      <th>median</th>\n      <th>user</th>\n      <th>system</th>\n      <th>min</th>\n      <th>max</th>\n      <th>model</th>\n      <th>solver</th>\n    </tr>\n  </thead>\n  <tbody>\n    <tr>\n      <th>0</th>\n      <td>2.418702</td>\n      <td>0.021909</td>\n      <td>2.418702</td>\n      <td>2.387312</td>\n      <td>0.021965</td>\n      <td>2.403210</td>\n      <td>2.434194</td>\n      <td>add12y.aag</td>\n      <td>cudd-sift-manu</td>\n    </tr>\n    <tr>\n      <th>1</th>\n      <td>2.352720</td>\n      <td>0.046595</td>\n      <td>2.352720</td>\n      <td>2.316535</td>\n      <td>0.020613</td>\n      <td>2.319772</td>\n      <td>2.385667</td>\n      <td>add12y.aag</td>\n      <td>cudd-group-manu</td>\n    </tr>\n    <tr>\n      <th>2</th>\n      <td>4.254728</td>\n      <td>0.378445</td>\n      <td>4.254728</td>\n      <td>16.865785</td>\n      <td>0.071558</td>\n      <td>3.987127</td>\n      <td>4.522329</td>\n      <td>add12y.aag</td>\n      <td>sylvan-manu</td>\n    </tr>\n    <tr>\n      <th>3</th>\n      <td>106.409891</td>\n      <td>2.546009</td>\n      <td>106.409891</td>\n      <td>105.524287</td>\n      <td>0.784374</td>\n      <td>104.609591</td>\n      <td>108.210191</td>\n      <td>add14y.aag</td>\n      <td>cudd-sift-manu</td>\n    </tr>\n    <tr>\n      <th>4</th>\n      <td>102.203530</td>\n      <td>4.246664</td>\n      <td>102.203530</td>\n      <td>101.462925</td>\n      <td>0.650172</td>\n      <td>99.200685</td>\n      <td>105.206375</td>\n      <td>add14y.aag</td>\n      <td>cudd-group-manu</td>\n    </tr>\n  </tbody>\n</table>\n</div>"
     },
     "execution_count": 51,
     "metadata": {},
     "output_type": "execute_result"
    }
   ],
   "source": [
    "manu_quality_benchmarks.groupby(\"benchmark\").mean()"
   ]
  }
 ],
 "metadata": {
  "kernelspec": {
   "display_name": "Python 3 (ipykernel)",
   "language": "python",
   "name": "python3"
  },
  "language_info": {
   "codemirror_mode": {
    "name": "ipython",
    "version": 3
   },
   "file_extension": ".py",
   "mimetype": "text/x-python",
   "name": "python",
   "nbconvert_exporter": "python",
   "pygments_lexer": "ipython3",
   "version": "3.11.3"
  }
 },
 "nbformat": 4,
 "nbformat_minor": 5
}
